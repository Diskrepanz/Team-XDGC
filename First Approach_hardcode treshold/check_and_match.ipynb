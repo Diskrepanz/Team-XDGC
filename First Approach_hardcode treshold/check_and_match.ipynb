{
 "cells": [
  {
   "cell_type": "code",
   "execution_count": 1,
   "metadata": {
    "collapsed": true
   },
   "outputs": [],
   "source": [
    "import pandas as pd\n",
    "import numpy as np"
   ]
  },
  {
   "cell_type": "code",
   "execution_count": 2,
   "metadata": {
    "collapsed": true
   },
   "outputs": [],
   "source": [
    "xlabel=['GRY2_trough','GRY2_peak','GRY2_period','GY2_min','GY2_max','GY2_mean','GY2_std','AX2_min','AX2_max',\\\n",
    "        'AX2_mean','AX2_std','GY1_min','GY1_max','GY1_mean','GY1_std','AX1_min','AX1_max','AX1_mean','AX1_std']"
   ]
  },
  {
   "cell_type": "code",
   "execution_count": 279,
   "metadata": {
    "collapsed": true
   },
   "outputs": [],
   "source": [
    "def reading_txt(txt_name):\n",
    "    x = pd.read_table(txt_name)\n",
    "    x=x[0::2]\n",
    "    s=pd.DataFrame(columns=xlabel)\n",
    "    for i in range(len(x)):\n",
    "        aa=x[x.columns.values[0]][i*2]\n",
    "        aaa=aa.split(' ')\n",
    "        aaa = [float(j) for j in aaa]\n",
    "        s.loc[i]=aaa\n",
    "    return s"
   ]
  },
  {
   "cell_type": "code",
   "execution_count": 280,
   "metadata": {
    "collapsed": true
   },
   "outputs": [],
   "source": [
    "# return a list of possible movement according to ax1. [0] if none\n",
    "def check_ax1(data):\n",
    "    a=set([])\n",
    "    if max(data[' Ax1'])<0.1 and min(data[' Ax1'])>-0.1:\n",
    "        a=set().union(a,[1])\n",
    "    if max(data[' Ax1'])<0.25 and min(data[' Ax1'])>-1:\n",
    "        a=set().union(a,[2])\n",
    "    if max(data[' Ax1'])<0.25 and min(data[' Ax1'])>-2:\n",
    "        a=set().union(a,[3])\n",
    "    if max(data[' Ax1'])<0.25 and min(data[' Ax1'])>-2:\n",
    "        a=set().union(a,[4])\n",
    "    if max(data[' Ax1'])<0.05 and min(data[' Ax1'])>-0.15:\n",
    "        a=set().union(a,[5])\n",
    "    if max(data[' Ax1'])<0.1 and min(data[' Ax1'])>-2.25:\n",
    "        a=set().union(a,[6])\n",
    "\n",
    "    return list(a)"
   ]
  },
  {
   "cell_type": "code",
   "execution_count": 281,
   "metadata": {
    "collapsed": true
   },
   "outputs": [],
   "source": [
    "# return a list of possible movement according to ax2. [0] if none\n",
    "def check_ax2(data):\n",
    "    a=set([])\n",
    "    if max(data[' Ax2'])<0 and min(data[' Ax2'])>-2.25:\n",
    "        a=set().union(a,[1])\n",
    "    if max(data[' Ax2'])<-0 and min(data[' Ax2'])>-2:\n",
    "        a=set().union(a,[2])\n",
    "    if max(data[' Ax2'])<0.5 and min(data[' Ax2'])>-2.1:\n",
    "        a=set().union(a,[3])\n",
    "    if max(data[' Ax2'])<0.2 and min(data[' Ax2'])>-2:\n",
    "        a=set().union(a,[4])\n",
    "    if max(data[' Ax2'])<-0.6 and min(data[' Ax2'])>-1.25:\n",
    "        a=set().union(a,[5])\n",
    "    if max(data[' Ax2'])<-1.3 and min(data[' Ax2'])>-2.1:\n",
    "        a=set().union(a,[6])\n",
    "    return list(a)"
   ]
  },
  {
   "cell_type": "code",
   "execution_count": 282,
   "metadata": {
    "collapsed": true
   },
   "outputs": [],
   "source": [
    "# return a list of possible movement according to Gy2. [0] if none\n",
    "def check_gy2(data):\n",
    "    a=set([])\n",
    "    if max(data[' Gy2'])<175 and min(data[' Gy2'])>-200:\n",
    "        a=set().union(a,[1])\n",
    "    if max(data[' Gy2'])<100 and min(data[' Gy2'])>-150:\n",
    "        a=set().union(a,[2])\n",
    "    if max(data[' Gy2'])<225 and min(data[' Gy2'])>-200:\n",
    "        a=set().union(a,[3])\n",
    "    if max(data[' Gy2'])<100 and min(data[' Gy2'])>-100:\n",
    "        a=set().union(a,[4])\n",
    "    if max(data[' Gy2'])<60 and min(data[' Gy2'])>-60:\n",
    "        a=set().union(a,[5])\n",
    "    if max(data[' Gy2'])<100 and min(data[' Gy2'])>-100:\n",
    "        a=set().union(a,[6])\n",
    "    return list(a)"
   ]
  },
  {
   "cell_type": "code",
   "execution_count": 283,
   "metadata": {
    "collapsed": true
   },
   "outputs": [],
   "source": [
    "# return a list of possible movement according to Gy2. [0] if none\n",
    "def check_gy1(data):\n",
    "    a=set([])\n",
    "    name=' Gy1'\n",
    "    if max(data[name])<20 and min(data[name])>-30:\n",
    "        a=set().union(a,[1])\n",
    "    if max(data[name])<40 and min(data[name])>-60:\n",
    "        a=set().union(a,[2])\n",
    "    if max(data[name])<150 and min(data[name])>-150:\n",
    "        a=set().union(a,[3])\n",
    "    if max(data[name])<85 and min(data[name])>-125:\n",
    "        a=set().union(a,[4])\n",
    "    if max(data[name])<35 and min(data[name])>-40:\n",
    "        a=set().union(a,[5])\n",
    "    if max(data[name])<100 and min(data[name])>-100:\n",
    "        a=set().union(a,[6])\n",
    "    return list(a)"
   ]
  },
  {
   "cell_type": "code",
   "execution_count": 284,
   "metadata": {
    "collapsed": true
   },
   "outputs": [],
   "source": [
    "def check_gz1(data):\n",
    "    a=set([])\n",
    "    name=' Gz1'\n",
    "    if max(data[name])<40 and min(data[name])>-30:\n",
    "        a=set().union(a,[1])\n",
    "    if max(data[name])<150 and min(data[name])>-150:\n",
    "        a=set().union(a,[2])\n",
    "    if max(data[name])<125 and min(data[name])>-125:\n",
    "        a=set().union(a,[3])\n",
    "    if max(data[name])<150 and min(data[name])>-150:\n",
    "        a=set().union(a,[4])\n",
    "    if max(data[name])<30 and min(data[name])>-30:\n",
    "        a=set().union(a,[5])\n",
    "    if max(data[name])<150 and min(data[name])>-175:\n",
    "        a=set().union(a,[6])\n",
    "    return list(a)"
   ]
  },
  {
   "cell_type": "code",
   "execution_count": 285,
   "metadata": {
    "collapsed": true
   },
   "outputs": [],
   "source": [
    "def check_gz2(data):\n",
    "    a=set([])\n",
    "    name=' Gz2'\n",
    "    if max(data[name])<120 and min(data[name])>-150:\n",
    "        a=set().union(a,[1])\n",
    "    if max(data[name])<200 and min(data[name])>-150:\n",
    "        a=set().union(a,[2])\n",
    "    if max(data[name])<100 and min(data[name])>-100:\n",
    "        a=set().union(a,[3])\n",
    "    if max(data[name])<175 and min(data[name])>-175:\n",
    "        a=set().union(a,[4])\n",
    "    if max(data[name])<160 and min(data[name])>-160:\n",
    "        a=set().union(a,[5])\n",
    "    if max(data[name])<150 and min(data[name])>-150:\n",
    "        a=set().union(a,[6])\n",
    "    return list(a)"
   ]
  },
  {
   "cell_type": "code",
   "execution_count": 286,
   "metadata": {
    "collapsed": true
   },
   "outputs": [],
   "source": [
    "def check_gx1(data):\n",
    "    a=set([])\n",
    "    name=' Gx1'\n",
    "    if max(data[name])<30 and min(data[name])>-25:\n",
    "        a=set().union(a,[1])\n",
    "    if max(data[name])<80 and min(data[name])>-125:\n",
    "        a=set().union(a,[2])\n",
    "    if max(data[name])<60 and min(data[name])>-60:\n",
    "        a=set().union(a,[3])\n",
    "    if max(data[name])<70 and min(data[name])>-70:\n",
    "        a=set().union(a,[4])\n",
    "    if max(data[name])<95 and min(data[name])>-95:\n",
    "        a=set().union(a,[5])\n",
    "    if max(data[name])<95 and min(data[name])>-95:\n",
    "        a=set().union(a,[6])\n",
    "    return list(a)"
   ]
  },
  {
   "cell_type": "code",
   "execution_count": 287,
   "metadata": {
    "collapsed": true
   },
   "outputs": [],
   "source": [
    "def check_gx2(data):\n",
    "    a=set([])\n",
    "    name=' Gx2'\n",
    "    if max(data[name])<90 and min(data[name])>-80:\n",
    "        a=set().union(a,[1])\n",
    "    if max(data[name])<100 and min(data[name])>-150:\n",
    "        a=set().union(a,[2])\n",
    "    if max(data[name])<100 and min(data[name])>-70:\n",
    "        a=set().union(a,[3])\n",
    "    if max(data[name])<130 and min(data[name])>-130:\n",
    "        a=set().union(a,[4])\n",
    "    if max(data[name])<35 and min(data[name])>-40:\n",
    "        a=set().union(a,[5])\n",
    "    if max(data[name])<120 and min(data[name])>-120:\n",
    "        a=set().union(a,[6])\n",
    "    return list(a)"
   ]
  },
  {
   "cell_type": "code",
   "execution_count": 288,
   "metadata": {
    "collapsed": true
   },
   "outputs": [],
   "source": [
    "def check_ay1(data):\n",
    "    a=set([])\n",
    "    name=' Ay1'\n",
    "    if max(data[name])<0.6 and min(data[name])>0.1:\n",
    "        a=set().union(a,[1])\n",
    "    if max(data[name])<1 and min(data[name])>-0.5:\n",
    "        a=set().union(a,[2])\n",
    "    if max(data[name])<0.7 and min(data[name])>-0.15:\n",
    "        a=set().union(a,[3])\n",
    "    if max(data[name])<1 and min(data[name])>0:\n",
    "        a=set().union(a,[4])\n",
    "    if max(data[name])<0.5 and min(data[name])>0.12:\n",
    "        a=set().union(a,[5])\n",
    "    if max(data[name])<1.2 and min(data[name])>-0.4:\n",
    "        a=set().union(a,[6])\n",
    "    return list(a)"
   ]
  },
  {
   "cell_type": "code",
   "execution_count": 289,
   "metadata": {
    "collapsed": true
   },
   "outputs": [],
   "source": [
    "def check_ay2(data):\n",
    "    a=set([])\n",
    "    name=' Ay2'\n",
    "    if max(data[name])<0.58 and min(data[name])>-0.22:\n",
    "        a=set().union(a,[1])\n",
    "    if max(data[name])<0.8 and min(data[name])>-0.5:\n",
    "        a=set().union(a,[2])\n",
    "    if max(data[name])<0.4 and min(data[name])>-0.8:\n",
    "        a=set().union(a,[3])\n",
    "    if max(data[name])<1 and min(data[name])>-1:\n",
    "        a=set().union(a,[4])\n",
    "    if max(data[name])<0.3 and min(data[name])>-0.55:\n",
    "        a=set().union(a,[5])\n",
    "    if max(data[name])<0.2 and min(data[name])>-0.85:\n",
    "        a=set().union(a,[6])\n",
    "    return list(a)"
   ]
  },
  {
   "cell_type": "code",
   "execution_count": 290,
   "metadata": {
    "collapsed": true
   },
   "outputs": [],
   "source": [
    "def check_az1(data):\n",
    "    a=set([])\n",
    "    name=' Az1'\n",
    "    if max(data[name])<-0.9 and min(data[name])>-1.2:\n",
    "        a=set().union(a,[1])\n",
    "    if max(data[name])<-0.2 and min(data[name])>-1.2:\n",
    "        a=set().union(a,[2])\n",
    "    if max(data[name])<1.9 and min(data[name])>0.9:\n",
    "        a=set().union(a,[3])\n",
    "    if max(data[name])<-0.35 and min(data[name])>-1.4:\n",
    "        a=set().union(a,[4])\n",
    "    if max(data[name])<-0.9 and min(data[name])>-1.3:\n",
    "        a=set().union(a,[5])\n",
    "    if max(data[name])<-0.3 and min(data[name])>-0.95:\n",
    "        a=set().union(a,[6])\n",
    "    return list(a)"
   ]
  },
  {
   "cell_type": "code",
   "execution_count": 291,
   "metadata": {
    "collapsed": true
   },
   "outputs": [],
   "source": [
    "def check_az2(data):\n",
    "    a=set([])\n",
    "    name=' Az2'\n",
    "    if max(data[name])<-0.8 and min(data[name])>-2.2:\n",
    "        a=set().union(a,[1])\n",
    "    if max(data[name])<0.2 and min(data[name])>-0.6:\n",
    "        a=set().union(a,[2])\n",
    "    if max(data[name])<2.1 and min(data[name])>-0:\n",
    "        a=set().union(a,[3])\n",
    "    if max(data[name])<1.3 and min(data[name])>0.2:\n",
    "        a=set().union(a,[4])\n",
    "    if max(data[name])<-1.8 and min(data[name])>-2.1:\n",
    "        a=set().union(a,[5])\n",
    "    if max(data[name])<1.5 and min(data[name])>0.6:\n",
    "        a=set().union(a,[6])\n",
    "    return list(a)"
   ]
  },
  {
   "cell_type": "code",
   "execution_count": 300,
   "metadata": {},
   "outputs": [
    {
     "name": "stdout",
     "output_type": "stream",
     "text": [
      "[1]\n",
      "[]\n",
      "[3]\n",
      "[4]\n",
      "[5]\n",
      "[6]\n",
      "\n",
      "[3, 4, 6]\n",
      "[1, 3, 6]\n",
      "[1, 2, 3, 4, 6]\n",
      "[3, 6]\n",
      "[2, 4, 6]\n",
      "[1, 2, 3, 4, 5, 6]\n",
      "[2, 4, 5, 6]\n",
      "[2, 4, 6]\n",
      "[6]\n",
      "[3, 4, 6]\n",
      "[2, 4, 6]\n",
      "[3, 4, 6]\n"
     ]
    }
   ],
   "source": [
    "txt_name='trd_lifting.txt'\n",
    "#data=reading_txt(txt_name)\n",
    "\n",
    "book=['','Lifting 50 times.csv','Punching 50 times.csv','rise front 50 times.csv','rise side 50 times.csv',\\\n",
    "      'shaking 50 times.csv','shoulder pressing 50 times.csv']\n",
    "\n",
    "ran=np.random.randint(150,1700)\n",
    "\n",
    "for i in range(1,7):\n",
    "    data=pd.read_csv(book[i])\n",
    "    data=data[ran:ran+100]\n",
    "\n",
    "    print(list(set(check_ax1(data)) & set(check_ax2(data)) & set(check_gy2(data)) & set(check_gy1(data)) \\\n",
    "           & set(check_gz1(data)) & set(check_gz2(data)) & set(check_gx1(data)) & set(check_gx1(data))\\\n",
    "          & set(check_gx2(data))  & set(check_ay1(data))  & set(check_ay2(data))  & set(check_az1(data))\\\n",
    "          & set(check_az2(data))))\n",
    "print()\n",
    "print(list(set(check_ax1(data))))\n",
    "print(list(set(check_ax2(data))))\n",
    "print(list(set(check_gy2(data))))\n",
    "print(list(set(check_gy1(data))))\n",
    "print(list(set(check_gz1(data))))\n",
    "print(list(set(check_gz2(data))))\n",
    "print(list(set(check_gx1(data))))\n",
    "print(list(set(check_gx2(data))))\n",
    "print(list(set(check_ay1(data))))\n",
    "print(list(set(check_ay2(data))))\n",
    "print(list(set(check_az1(data))))\n",
    "print(list(set(check_az2(data))))"
   ]
  },
  {
   "cell_type": "code",
   "execution_count": 298,
   "metadata": {},
   "outputs": [
    {
     "data": {
      "text/plain": [
       "1301"
      ]
     },
     "execution_count": 298,
     "metadata": {},
     "output_type": "execute_result"
    }
   ],
   "source": [
    "ran"
   ]
  },
  {
   "cell_type": "code",
   "execution_count": 43,
   "metadata": {},
   "outputs": [
    {
     "data": {
      "text/plain": [
       "{1, 2, 3}"
      ]
     },
     "execution_count": 43,
     "metadata": {},
     "output_type": "execute_result"
    }
   ],
   "source": [
    "a=set([1,2,3])\n",
    "b=set([0])\n",
    "set().union(a,[2])"
   ]
  },
  {
   "cell_type": "code",
   "execution_count": null,
   "metadata": {
    "collapsed": true
   },
   "outputs": [],
   "source": []
  },
  {
   "cell_type": "code",
   "execution_count": null,
   "metadata": {
    "collapsed": true
   },
   "outputs": [],
   "source": []
  },
  {
   "cell_type": "code",
   "execution_count": 1,
   "metadata": {
    "collapsed": true
   },
   "outputs": [],
   "source": []
  },
  {
   "cell_type": "code",
   "execution_count": null,
   "metadata": {},
   "outputs": [],
   "source": []
  },
  {
   "cell_type": "code",
   "execution_count": null,
   "metadata": {
    "collapsed": true
   },
   "outputs": [],
   "source": []
  }
 ],
 "metadata": {
  "kernelspec": {
   "display_name": "Python 3",
   "language": "python",
   "name": "python3"
  },
  "language_info": {
   "codemirror_mode": {
    "name": "ipython",
    "version": 3
   },
   "file_extension": ".py",
   "mimetype": "text/x-python",
   "name": "python",
   "nbconvert_exporter": "python",
   "pygments_lexer": "ipython3",
   "version": "3.6.3"
  }
 },
 "nbformat": 4,
 "nbformat_minor": 2
}
